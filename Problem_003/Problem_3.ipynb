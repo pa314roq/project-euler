{
 "cells": [
  {
   "cell_type": "markdown",
   "id": "3b0fb9b7",
   "metadata": {},
   "source": [
    "### Largest Prime Factor"
   ]
  },
  {
   "cell_type": "markdown",
   "id": "980e7ff5",
   "metadata": {},
   "source": [
    "The prime factors of 13195 are 5, 7, 13 and 29.\n",
    "\n",
    "What is the largest prime factor of the number 600851475143?\n",
    "\n",
    "---\n",
    "\n",
    "Consider $x$ a natural number from which we want to calculate all of its prime factors. How can we approach this problem?? Let's try to find a sequential method that calculates prime factors step by step. \n",
    "\n",
    "Assume that $p$ is the smallest natural factor of $x$. This means directly that $p$ is indeed a prime factor of $x$. As $p$ is a factor of $x$, we can write\n",
    "\n",
    "$$x = ps$$\n",
    "\n",
    "where $s$ is another natural number. As $p$ is the smallest factor of $x$, we have that $p \\leq s$. This give us an interval for the prime factor $p$:\n",
    "\n",
    "$$x = ps \\quad \\overset{p \\leq s}{\\Rightarrow} \\quad x \\geq p^2 \\quad \\Leftrightarrow \\quad p \\leq \\sqrt{x}$$\n",
    "\n",
    "> **Result**. All prime factors of $x$ are smaller than (or equal to) $\\sqrt{x}$.\n",
    "\n",
    "This result gives us a method to calculate the prime factors of a natural number $x$:\n",
    "\n",
    "- We can start extracting the factors 2 of $x$. We divide $x$ by 2 repeatedly until we get an odd number\n",
    "$x'$.\n",
    "\n",
    "- Then, we extract all the odd prime factors of $x'$. We start dividing by 3 and, if $\\text{mod}(x, 3) = 0$, we take 3 as a factor and keep dividing until exhaustion. In other case we consider the next number 5 and check if $\\mod(x, 5) = 0$ and repeat the process. This procedure keeps going until the prime factor $p$ is smaller or equal to $\\sqrt{x}$.\n",
    "\n",
    "The following code shows an easy implementation of the method explained above:"
   ]
  },
  {
   "cell_type": "code",
   "execution_count": null,
   "id": "fe91fc05",
   "metadata": {},
   "outputs": [
    {
     "name": "stdout",
     "output_type": "stream",
     "text": [
      "[1, 71, 839, 1471, 6857]\n"
     ]
    }
   ],
   "source": [
    "import math as mt\n",
    "def prime_factors(x: int) -> list:\n",
    "    \"\"\"\n",
    "    Function that returns the prime factors of the given integer `x`.\n",
    "    \n",
    "    Parameters\n",
    "    ----------\n",
    "    `x`: int\n",
    "        The integer from which we want its prime factors.\n",
    "\n",
    "    Returns\n",
    "    -------\n",
    "    `factors`: list\n",
    "        A list with the primer factors of `x`.\n",
    "    \"\"\"\n",
    "    factors = [1]\n",
    "\n",
    "    # Extract 2 factors\n",
    "    while (x % 2) == 0:\n",
    "        factors.append(2)\n",
    "        x //= 2\n",
    "    \n",
    "    # Extract odd factors\n",
    "    p = 3\n",
    "    while p * p <= x:\n",
    "        while (x % p) == 0:\n",
    "            factors.append(p)\n",
    "            x //= p\n",
    "        p += 2\n",
    "    \n",
    "    # If a prime factor is left greater than 1\n",
    "    if x > 1:\n",
    "        factors.append(x)\n",
    "\n",
    "    return factors\n",
    "\n",
    "x = 600851475143\n",
    "print(prime_factors(x))"
   ]
  }
 ],
 "metadata": {
  "kernelspec": {
   "display_name": "Python 3",
   "language": "python",
   "name": "python3"
  },
  "language_info": {
   "codemirror_mode": {
    "name": "ipython",
    "version": 3
   },
   "file_extension": ".py",
   "mimetype": "text/x-python",
   "name": "python",
   "nbconvert_exporter": "python",
   "pygments_lexer": "ipython3",
   "version": "3.11.9"
  }
 },
 "nbformat": 4,
 "nbformat_minor": 5
}
