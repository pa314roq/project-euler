{
 "cells": [
  {
   "cell_type": "markdown",
   "id": "c3f3b563",
   "metadata": {},
   "source": [
    "### Smallest Multiple "
   ]
  },
  {
   "cell_type": "markdown",
   "id": "de16268b",
   "metadata": {
    "vscode": {
     "languageId": "markdown"
    }
   },
   "source": [
    "2520 is the smallest number that can be divided by each of the numbers from 1 to 10 without any remainder.\n",
    "\n",
    "What is the smallest positive number that is **evenly divisible** by all of the numbers from 1 to 20?\n",
    "\n",
    "---\n",
    "$\\renewcommand{\\N}{\\mathbb{N}}$\n",
    "Let's call $\\N_k = \\left\\{1, 2, \\dots, k \\right\\}$ the set of the first $k$ natural numbers. We are looking for the smallest number $n$ that is evenly divisible by all the elements of $\\N_k$. We can take a constructive approach to this problem and build the number $n$ by taking the product of elements of $\\N_k$ until we suffice the condition.\n",
    "\n",
    "First, consider the prime numbers within the set $\\N_k$ which would be \n",
    "\n",
    "$$2, \\ 3, \\ 5, \\ 7, \\ 11, \\ \\dots$$\n",
    "\n",
    "which can be lower or equal to $k$. Let's call this set of prime numbers $P_k$ and its sorted elements by $p_i \\ (i \\in \\N)$. Our number $n$ must be divisible by pure powers of these prime numbers such that this powers are lower than $k$.\n",
    "\n",
    "- For example, we know that for $k = 10$ we have $n = 2520$. The prime numbers below $k=10$ would be 2, 3, 5 and 7. The pure powers of these prime numbers that keep below $k=10$ would be\n",
    "  $$2^3, \\ 3^2, \\ 5, \\ 7$$\n",
    "  and the product of this elements yields:\n",
    "  $$2 \\times 2 \\times 2 \\times 3 \\times 3 \\times 5 \\times 7 = 2520 = n$$\n",
    "  This is precisely the value of the smallest number $n$ that is divisible by all elements of $\\N_{10}$.\n",
    "\n",
    "This example shows us that, in order to find the smallest number $n$ divisible by all elements of $\\N_k$, we just have to take the prime numbers $P_k$ and make pure powers of its elements, such that they are lower than $k$. This is, for a prime number $p_i \\in P_k$ we have to find the power $a_i \\in \\N$ such that\n",
    "$$p_i^{a_i} \\leq k$$\n",
    "Then, the value of $n$ can be written as \n",
    "$$n = \\prod_i p_i ^ {a_i}$$\n",
    "\n",
    "Why this method works?? We could think that just taking the powers of the prime numbers below $k$ leave behind other non-prime factors. Recalling the previous example, we see that taking the primes below 10 (2, 3, 5 and 7) automatically gives a number that is divisible by 6 and 10. This is precisely because 6 and 10 can be decomposed in prime factors below 6 and 10, respectively, which we are currently taking into account. Therefore, we do not need to check for other non-prime factors and we can directly take the product as above.\n",
    "\n",
    "The following code gives a possible implementation of this method:"
   ]
  },
  {
   "cell_type": "code",
   "execution_count": 42,
   "id": "8bc91a80",
   "metadata": {},
   "outputs": [
    {
     "data": {
      "text/plain": [
       "(232792560, [2, 3, 5, 7, 11, 13, 17, 19], [4, 2, 1, 1, 1, 1, 1, 1])"
      ]
     },
     "execution_count": 42,
     "metadata": {},
     "output_type": "execute_result"
    }
   ],
   "source": [
    "def find_number(k: int) -> int:\n",
    "    # Find the prime numbers below k\n",
    "    p_numb = []\n",
    "    for p in range (2, k + 1):\n",
    "        prime = True\n",
    "        for i in range(2, int(p**0.5) +1):\n",
    "            if (p % i) == 0:\n",
    "                prime = False\n",
    "                break\n",
    "        if prime:\n",
    "            p_numb.append(p)\n",
    "    \n",
    "    # Find powers of these prime numbers\n",
    "    a_val = []\n",
    "    for p in p_numb:\n",
    "        a = 1\n",
    "        while p**a <= k:\n",
    "            a += 1\n",
    "        a_val.append(a - 1)\n",
    "    \n",
    "    # Calculate smallest evenly divisible number\n",
    "    n = 1\n",
    "    for p, a in zip(p_numb, a_val):\n",
    "        n *= p**a\n",
    "\n",
    "    return n, p_numb, a_val\n",
    "\n",
    "find_number(20)"
   ]
  }
 ],
 "metadata": {
  "kernelspec": {
   "display_name": "Python 3",
   "language": "python",
   "name": "python3"
  },
  "language_info": {
   "codemirror_mode": {
    "name": "ipython",
    "version": 3
   },
   "file_extension": ".py",
   "mimetype": "text/x-python",
   "name": "python",
   "nbconvert_exporter": "python",
   "pygments_lexer": "ipython3",
   "version": "3.11.9"
  }
 },
 "nbformat": 4,
 "nbformat_minor": 5
}
