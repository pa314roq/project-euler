{
 "cells": [
  {
   "cell_type": "markdown",
   "id": "3658550d",
   "metadata": {},
   "source": [
    "### Sum square difference"
   ]
  },
  {
   "cell_type": "markdown",
   "id": "958ba6dc",
   "metadata": {
    "vscode": {
     "languageId": "plaintext"
    }
   },
   "source": [
    "The sum of the squares of the first ten natural numbers is,\n",
    "\n",
    "$$\n",
    "1^2 + 2^2 + \\cdots + 10^2 = 385.\n",
    "$$\n",
    "\n",
    "The square of the sum of the first ten natural numbers is,\n",
    "\n",
    "$$\n",
    "(1 + 2 + \\cdots + 10)^2 = 55^2 = 3025.\n",
    "$$\n",
    "\n",
    "Hence the difference between the sum of the squares of the first ten natural numbers and the square of the sum is\n",
    "$$\n",
    "3025 - 385 = 2640.\n",
    "$$\n",
    "\n",
    "Find the difference between the sum of the squares of the first one hundred natural numbers and the square of the sum.\n",
    "\n",
    "---\n",
    "\n",
    "We can write the the square of the sum of the first $n$ natural numbers as \n",
    "\n",
    "$$\\left(\\sum_{i=1}^n i\\right)^2 = \\sum_{i=1}^n i^2 + 2 \\sum_{i>j}^n ij$$\n",
    "\n",
    "which means that the difference between the square of the sum and the sum of squares is \n",
    "\n",
    "$$\\left(\\sum_{i=1}^n i\\right)^2 - \\sum_{i=1}^n i^2 = 2 \\sum_{j > i}^n ij$$\n",
    "\n",
    "Therefore, we just need to calculate this last sum."
   ]
  },
  {
   "cell_type": "code",
   "execution_count": 1,
   "id": "174f6538",
   "metadata": {},
   "outputs": [
    {
     "name": "stdout",
     "output_type": "stream",
     "text": [
      "Difference: 25164150\n"
     ]
    }
   ],
   "source": [
    "n = 100\n",
    "S = 0\n",
    "for i in range(1, n + 1):\n",
    "    for j in range(i + 1, n + 1):\n",
    "        S += i*j\n",
    "S *= 2\n",
    "\n",
    "print(\"Difference:\", S)"
   ]
  }
 ],
 "metadata": {
  "kernelspec": {
   "display_name": "Python 3",
   "language": "python",
   "name": "python3"
  },
  "language_info": {
   "codemirror_mode": {
    "name": "ipython",
    "version": 3
   },
   "file_extension": ".py",
   "mimetype": "text/x-python",
   "name": "python",
   "nbconvert_exporter": "python",
   "pygments_lexer": "ipython3",
   "version": "3.11.9"
  }
 },
 "nbformat": 4,
 "nbformat_minor": 5
}
