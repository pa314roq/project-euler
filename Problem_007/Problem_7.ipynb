{
 "cells": [
  {
   "cell_type": "markdown",
   "id": "c60c1be4",
   "metadata": {},
   "source": [
    "### 10001st prime number"
   ]
  },
  {
   "cell_type": "markdown",
   "id": "946fab1f",
   "metadata": {},
   "source": [
    "By listing the first six prime numbers: **2, 3, 5, 7, 11,** and **13**, we can see that the 6th prime is 13.\n",
    "\n",
    "What is the 10001st prime number?\n",
    "\n",
    "---\n",
    "\n",
    "We just have to find prime numbers until we obtain the 10001st prime:"
   ]
  },
  {
   "cell_type": "code",
   "execution_count": 1,
   "id": "b7927d65",
   "metadata": {},
   "outputs": [
    {
     "name": "stdout",
     "output_type": "stream",
     "text": [
      "10001st prime number: 104743\n"
     ]
    }
   ],
   "source": [
    "# i-th prime we want to find\n",
    "i = 10001\n",
    "\n",
    "# Generate prime numbers until the i-st\n",
    "n, prime_idx = 2, 1\n",
    "while prime_idx < i:\n",
    "    # Go to next number\n",
    "    n += 1\n",
    "    \n",
    "    # Check if it is prime\n",
    "    prime = True\n",
    "    for k in range(2, int(n**0.5) + 1):\n",
    "        if n % k == 0:\n",
    "            prime = False\n",
    "            break\n",
    "    \n",
    "    # If so, give it an index\n",
    "    if prime:\n",
    "        prime_idx += 1\n",
    "\n",
    "print(f\"{i}st prime number:\", n)"
   ]
  }
 ],
 "metadata": {
  "kernelspec": {
   "display_name": "Python 3",
   "language": "python",
   "name": "python3"
  },
  "language_info": {
   "codemirror_mode": {
    "name": "ipython",
    "version": 3
   },
   "file_extension": ".py",
   "mimetype": "text/x-python",
   "name": "python",
   "nbconvert_exporter": "python",
   "pygments_lexer": "ipython3",
   "version": "3.11.9"
  }
 },
 "nbformat": 4,
 "nbformat_minor": 5
}
