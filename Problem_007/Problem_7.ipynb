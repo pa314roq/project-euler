{
 "cells": [
  {
   "cell_type": "markdown",
   "id": "c60c1be4",
   "metadata": {},
   "source": [
    "### 10001st prime number"
   ]
  },
  {
   "cell_type": "markdown",
   "id": "946fab1f",
   "metadata": {},
   "source": [
    "By listing the first six prime numbers: **2, 3, 5, 7, 11,** and **13**, we can see that the 6th prime is 13.\n",
    "\n",
    "What is the 10001st prime number?\n",
    "\n",
    "---\n",
    "\n",
    "We just have to find prime numbers until we obtain the 10001st prime. We can first define a function that checks wether a number is prime or not. For this, we can use the following results:\n",
    "\n",
    "- 1 is not prime.\n",
    "- All prime numbers greater than 2 are odd.\n",
    "- All primes greater than 3 can be written in the form $6k \\pm 1$\n",
    "- The smallest prime factor of a number $n$ must be less or equal to $\\sqrt{n}$.\n",
    "\n",
    "So our problem is to look for the smallest prime factor of a number $n$, if it has so; otherwise we have a prime number."
   ]
  },
  {
   "cell_type": "code",
   "execution_count": 34,
   "id": "8c01ffbc",
   "metadata": {},
   "outputs": [
    {
     "name": "stdout",
     "output_type": "stream",
     "text": [
      "Integer: 1 Prime: False\n",
      "Integer: 2 Prime: True\n",
      "Integer: 3 Prime: True\n",
      "Integer: 4 Prime: False\n",
      "Integer: 5 Prime: True\n",
      "Integer: 6 Prime: False\n",
      "Integer: 7 Prime: True\n",
      "Integer: 8 Prime: False\n",
      "Integer: 9 Prime: False\n",
      "Integer: 10 Prime: False\n",
      "Integer: 11 Prime: True\n",
      "Integer: 12 Prime: False\n",
      "Integer: 13 Prime: True\n",
      "Integer: 14 Prime: False\n",
      "Integer: 15 Prime: False\n",
      "Integer: 16 Prime: False\n",
      "Integer: 17 Prime: True\n",
      "Integer: 18 Prime: False\n",
      "Integer: 19 Prime: True\n"
     ]
    }
   ],
   "source": [
    "def is_prime(n):\n",
    "    # Preliminary properties\n",
    "    if n == 1:          # 1 is not a prime number\n",
    "        return False\n",
    "    elif n < 4:         # 2 and 3 are prime numbers\n",
    "        return True\n",
    "    elif n % 2 == 0:    # Prime numbers greater than 2 are odd\n",
    "        return False    \n",
    "    elif n % 3 == 0:    # Get out with prime factor 3 to use next prime property\n",
    "        return False\n",
    "    \n",
    "    # Look for smallest prime factor of n\n",
    "    else:                      # Prime numbers greater than 3 are of the form 6k+-1\n",
    "        f_max = int(n**0.5)\n",
    "        f = 5   # This is a 6k - 1 type number\n",
    "        while f <= f_max:\n",
    "            if n % f == 0:\n",
    "                return False\n",
    "            elif n % (f + 2) == 0:  # This is a 6k + 1 type number\n",
    "                return False\n",
    "            f += 6  # Go to next 6k -1 type number\n",
    "        return True\n",
    "\n",
    "# Test function\n",
    "n_val = list(range(1, 20))\n",
    "for n in n_val:\n",
    "    print(\"Integer:\", n, \"Prime:\", is_prime(n))"
   ]
  },
  {
   "cell_type": "markdown",
   "id": "7a287703",
   "metadata": {},
   "source": [
    "We can now use this function to calculate the 10001st prime number:"
   ]
  },
  {
   "cell_type": "code",
   "execution_count": null,
   "id": "5ac62e38",
   "metadata": {},
   "outputs": [
    {
     "name": "stdout",
     "output_type": "stream",
     "text": [
      "10001st prime number: 104743\n"
     ]
    }
   ],
   "source": [
    "i = 10001               # Prime number we are looking for\n",
    "n, prime_idx = 3, 2     # Start with the 2nd prime number, which is odd\n",
    "\n",
    "# Go through all odd numbers `n` and test primality\n",
    "while prime_idx < i:\n",
    "    n += 2\n",
    "    if is_prime(n):\n",
    "        prime_idx += 1\n",
    "\n",
    "print(f\"{i}st prime number:\", n)"
   ]
  }
 ],
 "metadata": {
  "kernelspec": {
   "display_name": "Python 3",
   "language": "python",
   "name": "python3"
  },
  "language_info": {
   "codemirror_mode": {
    "name": "ipython",
    "version": 3
   },
   "file_extension": ".py",
   "mimetype": "text/x-python",
   "name": "python",
   "nbconvert_exporter": "python",
   "pygments_lexer": "ipython3",
   "version": "3.11.9"
  }
 },
 "nbformat": 4,
 "nbformat_minor": 5
}
