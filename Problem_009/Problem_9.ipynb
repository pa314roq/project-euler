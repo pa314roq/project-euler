{
 "cells": [
  {
   "cell_type": "markdown",
   "id": "391afa87",
   "metadata": {},
   "source": [
    "### Special Pythagorean Triplet"
   ]
  },
  {
   "cell_type": "markdown",
   "id": "b705648b",
   "metadata": {
    "vscode": {
     "languageId": "plaintext"
    }
   },
   "source": [
    "A Pythagorean triplet is a set of three natural numbers, $a < b < c$, for which,\n",
    "\n",
    "$$\n",
    "a^2 + b^2 = c^2.\n",
    "$$\n",
    "\n",
    "For example, $3^2 + 4^2 = 9 + 16 = 25 = 5^2$.\n",
    "\n",
    "There exists exactly one Pythagorean triplet for which $a + b + c = 1000$.\n",
    "Find the product $abc$.\n",
    "\n",
    "---\n",
    "\n",
    "If $a + b + c = 1000$, then\n",
    "$$c = 1000 - (a + b)$$\n",
    "Therefore:\n",
    "\n",
    "- As $b < c$,\n",
    "$$b < 1000 - (a + b) \\quad \\Leftrightarrow \\quad b < \\frac{1000 - a}{2}$$\n",
    "\n",
    "- As $a < b$, \n",
    "$$a < b < \\frac{1000 - a}{2}$$\n",
    "\n",
    "This interval enable us to go through all posible values of $a$ and $b$ and check if the pythagorean condition holds:"
   ]
  },
  {
   "cell_type": "code",
   "execution_count": 9,
   "id": "d414527f",
   "metadata": {},
   "outputs": [
    {
     "name": "stdout",
     "output_type": "stream",
     "text": [
      "Triplet: (200, 375, 425)\n",
      "Product: 31875000\n"
     ]
    }
   ],
   "source": [
    "# Find the triplet\n",
    "def find_triplet(n):\n",
    "    for a in range(1, n):\n",
    "        for b in range(a + 1, (n - a) // 2):\n",
    "            c = n - (a + b)\n",
    "            if a**2 + b**2 == c**2:\n",
    "                return (a, b, c)\n",
    "    return None\n",
    "triplet = find_triplet(1000)\n",
    "\n",
    "# Calculate product\n",
    "product = 1\n",
    "for numb in triplet:\n",
    "    product *= numb\n",
    "\n",
    "print(\"Triplet:\", triplet)    \n",
    "print(\"Product:\", product)\n"
   ]
  }
 ],
 "metadata": {
  "kernelspec": {
   "display_name": "Python 3",
   "language": "python",
   "name": "python3"
  },
  "language_info": {
   "codemirror_mode": {
    "name": "ipython",
    "version": 3
   },
   "file_extension": ".py",
   "mimetype": "text/x-python",
   "name": "python",
   "nbconvert_exporter": "python",
   "pygments_lexer": "ipython3",
   "version": "3.11.9"
  }
 },
 "nbformat": 4,
 "nbformat_minor": 5
}
