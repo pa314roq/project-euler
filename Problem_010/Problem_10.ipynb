{
 "cells": [
  {
   "cell_type": "markdown",
   "id": "05bccf31",
   "metadata": {},
   "source": [
    "### Summation of primes"
   ]
  },
  {
   "cell_type": "markdown",
   "id": "7cd70249",
   "metadata": {},
   "source": [
    "The sum of the primes below **10** is $2 + 3 + 5 + 7 = 17$.\n",
    "\n",
    "Find the sum of all the primes below two million.\n",
    "\n",
    "---\n",
    "\n",
    "We can go though all primes up to two million and adding them together. First we define the same primality checker from problem 7:"
   ]
  },
  {
   "cell_type": "code",
   "execution_count": 2,
   "id": "31deb103",
   "metadata": {},
   "outputs": [],
   "source": [
    "def is_prime(n):\n",
    "    # Preliminary properties\n",
    "    if n == 1:          # 1 is not a prime number\n",
    "        return False\n",
    "    elif n < 4:         # 2 and 3 are prime numbers\n",
    "        return True\n",
    "    elif n % 2 == 0:    # Prime numbers greater than 2 are odd\n",
    "        return False    \n",
    "    elif n % 3 == 0:    # Get out with prime factor 3 to use next prime property\n",
    "        return False\n",
    "    \n",
    "    # Look for smallest prime factor of n\n",
    "    else:                      # Prime numbers greater than 3 are of the form 6k+-1\n",
    "        f_max = int(n**0.5)\n",
    "        f = 5   # This is a 6k - 1 type number\n",
    "        while f <= f_max:\n",
    "            if n % f == 0:\n",
    "                return False\n",
    "            elif n % (f + 2) == 0:  # This is a 6k + 1 type number\n",
    "                return False\n",
    "            f += 6  # Go to next 6k -1 type number\n",
    "        return True"
   ]
  },
  {
   "cell_type": "markdown",
   "id": "b81465ed",
   "metadata": {},
   "source": [
    "We can use it to calculate successive prime numbers and add them up together:"
   ]
  },
  {
   "cell_type": "code",
   "execution_count": 7,
   "id": "26709090",
   "metadata": {},
   "outputs": [
    {
     "name": "stdout",
     "output_type": "stream",
     "text": [
      "Prime number below 2000000: 1999993\n",
      "Sum value: 142913828922\n"
     ]
    }
   ],
   "source": [
    "max_prime = int(2e6)    # Constrain\n",
    "n, s = 3, 2             # 2nd prime number and sum value\n",
    "\n",
    "while n < max_prime:\n",
    "    # If prime, add it to the sum\n",
    "    if is_prime(n):\n",
    "        p = n\n",
    "        s += p\n",
    "    # Go to next number\n",
    "    n += 2\n",
    "\n",
    "print(f\"Prime number below {max_prime}:\", p)\n",
    "print(\"Sum value:\", s)"
   ]
  }
 ],
 "metadata": {
  "kernelspec": {
   "display_name": "Python 3",
   "language": "python",
   "name": "python3"
  },
  "language_info": {
   "codemirror_mode": {
    "name": "ipython",
    "version": 3
   },
   "file_extension": ".py",
   "mimetype": "text/x-python",
   "name": "python",
   "nbconvert_exporter": "python",
   "pygments_lexer": "ipython3",
   "version": "3.11.9"
  }
 },
 "nbformat": 4,
 "nbformat_minor": 5
}
