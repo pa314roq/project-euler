{
 "cells": [
  {
   "cell_type": "markdown",
   "id": "05bccf31",
   "metadata": {},
   "source": [
    "### Summation of primes"
   ]
  },
  {
   "cell_type": "markdown",
   "id": "7cd70249",
   "metadata": {},
   "source": [
    "The sum of the primes below **10** is $2 + 3 + 5 + 7 = 17$.\n",
    "\n",
    "Find the sum of all the primes below two million.\n",
    "\n",
    "---"
   ]
  },
  {
   "cell_type": "markdown",
   "id": "0f7907ce",
   "metadata": {},
   "source": [
    "#### Natural looping algorithm"
   ]
  },
  {
   "cell_type": "markdown",
   "id": "10d57a87",
   "metadata": {},
   "source": [
    "We can go though all primes up to two million and adding them together. First we define the same primality checker from problem 7, which consists of a looping algorithm over natural numbers:"
   ]
  },
  {
   "cell_type": "code",
   "execution_count": 2,
   "id": "31deb103",
   "metadata": {},
   "outputs": [],
   "source": [
    "def is_prime(n):\n",
    "    # Preliminary properties\n",
    "    if n == 1:          # 1 is not a prime number\n",
    "        return False\n",
    "    elif n < 4:         # 2 and 3 are prime numbers\n",
    "        return True\n",
    "    elif n % 2 == 0:    # Prime numbers greater than 2 are odd\n",
    "        return False    \n",
    "    elif n % 3 == 0:    # Get out with prime factor 3 to use next prime property\n",
    "        return False\n",
    "    \n",
    "    # Look for smallest prime factor of n\n",
    "    else:                      # Prime numbers greater than 3 are of the form 6k+-1\n",
    "        f_max = int(n**0.5)\n",
    "        f = 5   # This is a 6k - 1 type number\n",
    "        while f <= f_max:\n",
    "            if n % f == 0:\n",
    "                return False\n",
    "            elif n % (f + 2) == 0:  # This is a 6k + 1 type number\n",
    "                return False\n",
    "            f += 6  # Go to next 6k -1 type number\n",
    "        return True"
   ]
  },
  {
   "cell_type": "markdown",
   "id": "b81465ed",
   "metadata": {},
   "source": [
    "We can use it to calculate successive prime numbers and add them up together:"
   ]
  },
  {
   "cell_type": "code",
   "execution_count": 13,
   "id": "26709090",
   "metadata": {},
   "outputs": [
    {
     "name": "stdout",
     "output_type": "stream",
     "text": [
      "Prime number below 10000000: 9999991\n",
      "Sum value: 3203324994356\n"
     ]
    }
   ],
   "source": [
    "max_prime = int(10e6)    # Constrain\n",
    "n, s = 3, 2             # 2nd prime number and sum value\n",
    "\n",
    "while n < max_prime:\n",
    "    # If prime, add it to the sum\n",
    "    if is_prime(n):\n",
    "        p = n\n",
    "        s += p\n",
    "    # Go to next number\n",
    "    n += 2\n",
    "\n",
    "print(f\"Prime number below {max_prime}:\", p)\n",
    "print(\"Sum value:\", s)"
   ]
  },
  {
   "cell_type": "markdown",
   "id": "a151d31d",
   "metadata": {},
   "source": [
    "We know that our prime testing algorithm is a good enhancement from other testing algorithms that divide by all natural numbers, or even by all odd numbers (and do not talk about other algorithms that do not stop at $\\sqrt{n}$). However, we can see that this last code took quite a little more time compared to other problems. This is mainly because the number of divisions performed increased tremendously when we look for prime numbers up to one million.\n",
    "\n",
    "For example, if we want to calculate prime numbers up to five million or 10 million we would have to wait for about 21 s and nearly 1 min, respectively (for an ordinary computer). This is pretty much time and we would like to save it, how do we do this?\n"
   ]
  },
  {
   "cell_type": "markdown",
   "id": "d068dfc3",
   "metadata": {},
   "source": [
    "#### Sieve of Eratosthenes"
   ]
  },
  {
   "cell_type": "markdown",
   "id": "3e3e9a4d",
   "metadata": {},
   "source": [
    "The sieve of Eratosthenes is an ancient method to compute the prime numbers below a given limit number $n$. It does so by iteratively marking as composite (i.e., not prime) the multiples of each prime, starting with the first prime number, 2. The multiples of a given prime are generated as a sequence of numbers starting from that prime, with constant difference between them that is equal to that prime. This is easy to see with an example."
   ]
  },
  {
   "cell_type": "markdown",
   "id": "c154fca8",
   "metadata": {},
   "source": [
    "##### Example"
   ]
  },
  {
   "cell_type": "markdown",
   "id": "986e13e7",
   "metadata": {},
   "source": [
    "Consider that we want to calculate all prime numbers below 30. We first star listing all numbers up to 30 starting from 2:\n",
    "\n",
    "2 3 4 5 6 7 8 9 10 11 12 13 14 15 16 17 18 19 20 21 22 23 24 25 26 27 28 29 30\n",
    "\n",
    "We take the first prime, which is 2, and go though the list on steps of 2 by 2. This set of numbers are multiples of 2 (i.e. composites) so we erase/sieve them from the list:\n",
    "\n",
    "2 3 ~~4~~ 5 ~~6~~ 7 ~~8~~ 9 ~~10~~ 11 ~~12~~ 13 ~~14~~ 15 ~~16~~ 17 ~~18~~ 19 ~~20~~ 21 ~~22~~ 23 ~~24~~ 25 ~~26~~ 27 ~~28~~ 29 ~~30~~\n",
    "\n",
    "We move to the next unsieved number, which is 3, and go through the list on steps of 3 by 3. This are the multiples of 3 and we sieve them as well:\n",
    "\n",
    "2 3 ~~4~~ 5 ~~6~~ 7 ~~8~~ ~~9~~ ~~10~~ 11 ~~12~~ 13 ~~14~~ ~~15~~ ~~16~~ 17 ~~18~~ 19 ~~20~~ ~~21~~ ~~22~~ 23 ~~24~~ 25 ~~26~~ ~~27~~ ~~28~~ ~~29~~ ~~30~~\n",
    "\n",
    "For now, the numbers that remain unsieved are those not divisible by 2 or 3. The next number would 5 and sieving their multiples gives:\n",
    "\n",
    "2 3 ~~4~~ 5 ~~6~~ 7 ~~8~~ ~~9~~ ~~10~~ 11 ~~12~~ 13 ~~14~~ ~~15~~ ~~16~~ 17 ~~18~~ 19 ~~20~~ ~~21~~ ~~22~~ 23 ~~24~~ ~~25~~ ~~26~~ ~~27~~ ~~28~~ ~~29~~ ~~30~~\n",
    "\n",
    "After sieving by 5, the only numbers left unsieved are those not divisible by 2, 3, or 5. \n",
    "\n",
    "The next step would be to continue with the next unsieved number, which is 7, and sieve every 7th number starting from 7. However, they are already crossed out, as they are multiples of smaller primes: \n",
    "$$14 = 2 \\times 7, \\ 21 = 3 \\times 7, \\ 28 = 4 \\times 7$$\n",
    "The only multiple of 7 that would not be crossed out is $7 \\times 7$, but is greater than 30. The numbers not crossed out at this point in the list are all the prime numbers below 30:\n",
    "\n",
    "2 3 5 7 11 13 17 19 23 29"
   ]
  },
  {
   "cell_type": "markdown",
   "id": "a51d508f",
   "metadata": {},
   "source": [
    "##### Sieve algorithm"
   ]
  },
  {
   "cell_type": "markdown",
   "id": "bad6d477",
   "metadata": {},
   "source": [
    "A prime number is a natural number that has exactly two distinct natural number divisors: the number 1 and itself.\n",
    "\n",
    "To find all the prime numbers less than or equal to a given integer $n$ by Eratosthenes' method:\n",
    "\n",
    "1. Create a list of consecutive integers from 2 through $n$: $(2, 3, 4, \\dots, n)$.\n",
    "2. Initially, let $p$ equal 2, the smallest prime number.\n",
    "3. Enumerate the multiples of $p$ by counting in increments of $p$ from $2p$ to $n$, and mark them in the list (these will be $2p, 3p, 4p, \\dots$; the $p$ itself should not be marked).\n",
    "4. Find the smallest number in the list greater than $p$ that is not marked. If there was no such number, stop. Otherwise, let $p$ now equal this new number (which is the next prime), and repeat from step 3.\n",
    "5. When the algorithm terminates, the numbers remaining not marked in the list are all the primes below $n$.\n",
    "\n",
    "The main idea here is that every value given to $p$ will be prime, because if it were composite it would be marked as a multiple of some other, smaller prime. Note that some of the numbers may be marked more than once (e.g., 15 will be marked both for 3 and 5).\n",
    "\n",
    "- As a refinement, it is sufficient to mark the numbers in step 3 starting from $p^2$, as all the smaller multiples of p will have already been marked at that point. This means that the algorithm is allowed to terminate in step 4 when $p^2$ is greater than $n$.\n",
    "\n",
    "- Another refinement is to initially list odd numbers only, $(3, 5, \\dots, n)$, and count in increments of $2p$ in step 3, thus marking only odd multiples of $p$.\n"
   ]
  }
 ],
 "metadata": {
  "kernelspec": {
   "display_name": "Python 3",
   "language": "python",
   "name": "python3"
  },
  "language_info": {
   "codemirror_mode": {
    "name": "ipython",
    "version": 3
   },
   "file_extension": ".py",
   "mimetype": "text/x-python",
   "name": "python",
   "nbconvert_exporter": "python",
   "pygments_lexer": "ipython3",
   "version": "3.11.9"
  }
 },
 "nbformat": 4,
 "nbformat_minor": 5
}
