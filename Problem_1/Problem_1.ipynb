{
 "cells": [
  {
   "cell_type": "markdown",
   "id": "6a7db05e",
   "metadata": {},
   "source": [
    "### Multiples of 3 or 5"
   ]
  },
  {
   "cell_type": "markdown",
   "id": "9fbeed4d",
   "metadata": {
    "vscode": {
     "languageId": "plaintext"
    }
   },
   "source": [
    "If we list all the natural numbers below 10 that are multiples of 3 or 5, we get 3, 5, 6 and 9. The sum of these multiples is 23.\n",
    "\n",
    "Find the sum of all the multiples of 3 or 5 below 1000.\n",
    "\n",
    "---\n",
    "\n",
    "Given a certain integer $n \\in \\mathbb{N}$, we want to list the numbers below $n$ that are multiples of another $k \\in \\mathbb{N}$. \n",
    "There are two possible approaches: one is constructive, and the other is inductive. Here we opt for the inductive method por simplicity.\n",
    "\n",
    "If $n=1000$ and $k=3,5$, we can find this list of numbers just by checking values from 1 to $n$."
   ]
  },
  {
   "cell_type": "code",
   "execution_count": 7,
   "id": "93cbdb50",
   "metadata": {},
   "outputs": [
    {
     "name": "stdout",
     "output_type": "stream",
     "text": [
      "Sum of all multiples: 233168\n"
     ]
    }
   ],
   "source": [
    "# Values\n",
    "n = 1000\n",
    "k = [3, 5]\n",
    "\n",
    "# Find multiples of 3 and 5\n",
    "list_numb = []\n",
    "for i in range(1, n):\n",
    "    if (i % k[0]) == 0 or (i % k[1]) == 0:\n",
    "        # print(i)\n",
    "        list_numb.append(i)\n",
    "\n",
    "# Make the sum\n",
    "s = sum(list_numb)\n",
    "\n",
    "print(\"Sum of all multiples:\", s)\n"
   ]
  },
  {
   "cell_type": "markdown",
   "id": "8ecd2872",
   "metadata": {},
   "source": [
    "#### The constructive approach"
   ]
  },
  {
   "cell_type": "markdown",
   "id": "13b46121",
   "metadata": {},
   "source": [
    "A natural multiple of $k$ is a natural number that contains $k$ as a factor: this is a number of the form $lk$, where $l$ is another natural number. As we are looking for the multiples of $k$ bellow a certain natural $n$, we have\n",
    "$$n > kl \\geq k \\Leftrightarrow n/k > l \\geq 1 $$\n",
    "Therefore, we can go through the multiples of $k$ below $n$ simply going through all possible values of $l$, which are \n",
    "$$L = \\left\\{ l \\in \\mathbb{N}: 1 \\leq l < n/k \\right\\}$$\n",
    "For example, if we set $n=20$ and look for multiples of $k=3$ and $k=5$ we would have:"
   ]
  },
  {
   "cell_type": "code",
   "execution_count": 1,
   "id": "94463a37",
   "metadata": {},
   "outputs": [
    {
     "name": "stdout",
     "output_type": "stream",
     "text": [
      "[3, 6, 9, 12, 15, 18]\n"
     ]
    }
   ],
   "source": [
    "# Multiples of 3 below 20\n",
    "n, k = 20, 3\n",
    "multiples1 = [k * l for l in range(1, n//k + 1) if l < n/k]\n",
    "print(multiples1)   "
   ]
  },
  {
   "cell_type": "code",
   "execution_count": 2,
   "id": "68989d02",
   "metadata": {},
   "outputs": [
    {
     "name": "stdout",
     "output_type": "stream",
     "text": [
      "[5, 10, 15]\n"
     ]
    }
   ],
   "source": [
    "# Multiples of 5 below 20\n",
    "k = 5\n",
    "multiples2 = [k * l for l in range(1, n//k +1) if l < n/k]\n",
    "print(multiples2)"
   ]
  },
  {
   "cell_type": "markdown",
   "id": "91429dc2",
   "metadata": {},
   "source": [
    "One may ask why do we add a condition `if l < n/k` if we just took the floor division `n//k` which should be always below $n/k$. This is because the later does not hold when $n$ is a multiple of $k$ (like our example, where 20 is multiple of 5). In this case, `n//k == n/k` which we do not want because this would take $l$ out of its range (remember set of values $L$). \n",
    "\n",
    "Obviously, if we list the multiples of 3 and 5 separately be would obtain repeated values. So to fix this, we count just the unique ones:"
   ]
  },
  {
   "cell_type": "code",
   "execution_count": 3,
   "id": "28d299a4",
   "metadata": {},
   "outputs": [
    {
     "data": {
      "text/plain": [
       "[3, 5, 6, 9, 10, 12, 15, 18]"
      ]
     },
     "execution_count": 3,
     "metadata": {},
     "output_type": "execute_result"
    }
   ],
   "source": [
    "multiples = multiples1 + multiples2\n",
    "\n",
    "list(set(multiples))"
   ]
  },
  {
   "cell_type": "markdown",
   "id": "69dbc945",
   "metadata": {},
   "source": [
    "The sum is direct from this list. For our problem we would obtain:"
   ]
  },
  {
   "cell_type": "code",
   "execution_count": 6,
   "id": "ac2100e2",
   "metadata": {},
   "outputs": [
    {
     "data": {
      "text/plain": [
       "233168"
      ]
     },
     "execution_count": 6,
     "metadata": {},
     "output_type": "execute_result"
    }
   ],
   "source": [
    "n = 1000\n",
    "k_val = [3, 5]\n",
    "\n",
    "multiples = []\n",
    "for k in k_val:\n",
    "    multiples.extend([k * l for l in range(1, n//k + 1) if l < n/k])\n",
    "\n",
    "sum(list(set(multiples)))"
   ]
  },
  {
   "cell_type": "markdown",
   "id": "bdaaf1e1",
   "metadata": {},
   "source": [
    "This can be generalized to any number of multiples we want to count, just giving the multiple values to the `k_val` list."
   ]
  }
 ],
 "metadata": {
  "kernelspec": {
   "display_name": "Python 3",
   "language": "python",
   "name": "python3"
  },
  "language_info": {
   "codemirror_mode": {
    "name": "ipython",
    "version": 3
   },
   "file_extension": ".py",
   "mimetype": "text/x-python",
   "name": "python",
   "nbconvert_exporter": "python",
   "pygments_lexer": "ipython3",
   "version": "3.11.9"
  }
 },
 "nbformat": 4,
 "nbformat_minor": 5
}
