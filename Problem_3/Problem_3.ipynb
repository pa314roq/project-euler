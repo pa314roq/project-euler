{
 "cells": [
  {
   "cell_type": "markdown",
   "id": "3b0fb9b7",
   "metadata": {},
   "source": [
    "### Largest Prime Factor"
   ]
  },
  {
   "cell_type": "code",
   "execution_count": null,
   "id": "8393a137",
   "metadata": {},
   "outputs": [],
   "source": [
    "# Function that checks prime numbers\n",
    "def check_prime(n):\n",
    "    for k in range(2, int(n)):\n",
    "        if (n % k) == 0:\n",
    "            return False\n",
    "        else:\n",
    "            continue\n",
    "    return True"
   ]
  },
  {
   "cell_type": "code",
   "execution_count": null,
   "id": "fe91fc05",
   "metadata": {},
   "outputs": [
    {
     "name": "stdout",
     "output_type": "stream",
     "text": [
      "[1, 71, 839, 1471, 6857]\n",
      "600851475143\n"
     ]
    }
   ],
   "source": [
    "import math as mt\n",
    "\n",
    "x = 600851475143\n",
    "prime_factors = [1]\n",
    "\n",
    "while x > 1:\n",
    "    for s in range(2, int(mt.sqrt(x)) + 1):\n",
    "        if (x % s) == 0:\n",
    "            if check_prime(s):\n",
    "                prime_factors.append(s)\n",
    "                x = x / s\n",
    "            else:\n",
    "                continue\n",
    "\n",
    "product = 1\n",
    "for factor in prime_factors:\n",
    "    product *= factor\n",
    "\n",
    "print(prime_factors)\n",
    "print(product)\n"
   ]
  }
 ],
 "metadata": {
  "kernelspec": {
   "display_name": "Python 3",
   "language": "python",
   "name": "python3"
  },
  "language_info": {
   "codemirror_mode": {
    "name": "ipython",
    "version": 3
   },
   "file_extension": ".py",
   "mimetype": "text/x-python",
   "name": "python",
   "nbconvert_exporter": "python",
   "pygments_lexer": "ipython3",
   "version": "3.11.9"
  }
 },
 "nbformat": 4,
 "nbformat_minor": 5
}
