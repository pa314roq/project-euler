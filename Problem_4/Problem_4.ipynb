{
 "cells": [
  {
   "cell_type": "markdown",
   "id": "800c7a1c",
   "metadata": {},
   "source": [
    "### Largest Palindrome Product"
   ]
  },
  {
   "cell_type": "markdown",
   "id": "9edc415b",
   "metadata": {},
   "source": [
    "A palindromic number reads the same both ways. The largest palindrome made from the product of two 2-digit numbers is $ 9009 = 91 \\times 99 $.\n",
    "\n",
    "Find the largest palindrome made from the product of two 3-digit numbers.\n",
    "\n",
    "---\n",
    "\n",
    "Two 3-digit numbers can generate numbers between the interval $[100^2, 999^2]$. Therefore, in this interval, we can only find palindromic numbers of 5 or 6 digits. Such palindromic numbers are well defined by three 1-digit numbers $d_1, d_2, d_3$ so we can write it as\n",
    "\n",
    "$$\\begin{array}{c}\n",
    "d_1 d_2 d_3 d_3 d_2 d_1 \\text{ for 6-digits palindromes} \\\\[5pt]\n",
    "d_1 d_2 d_3 d_2 d_1 \\text{ for 5-digits palindromes}\n",
    "\\end{array}$$\n",
    "\n",
    "and where\n",
    "\n",
    "$$ 1 \\leq d_1 \\leq 9, \\quad 0 \\leq d_2, d_3 \\leq 9 $$\n",
    "\n",
    "One way of maximizing this palindromic number under the condition of our problem is the following:\n",
    "\n",
    "- Take the maximum palindromic number, which in this case is equal to 999999. This is easy to obtain setting $d_1 = d_2 = d_3 = 9$ for palindromic numbers of 6 digits.\n",
    "\n",
    "- Try to factorize this palindromic number by a factor of 3-digits starting from 100. We can do this going through all integers between [100, 999] and check the first that divide the palindromic number: remember to check if the second factor is another 3-digit number.\n",
    "\n",
    "- If we can do this, then we are finished on first step. On other case, we should pick the next palindromic number before 999999: this is, to step back on $d_3$, such that $d_1=d_2=9, \\ d_3=8$.\n",
    "\n",
    "- We repeat the whole process with the latter palindromic number until we get a palindromic number that suffices the condition.\n",
    "\n",
    "- If any 6-digit palindromic number suffices the condition, then we repeat every step with palindromic numbers of 5 digits.\n",
    "\n",
    "Our first task shall be to find an easy method to generate palindromic numbers. The following code implements the generation of palindromic numbers as concatenation of two equal halves:"
   ]
  },
  {
   "cell_type": "code",
   "execution_count": 9,
   "id": "ba4e77db",
   "metadata": {},
   "outputs": [
    {
     "name": "stdout",
     "output_type": "stream",
     "text": [
      "[999999, 998899, 997799, 996699, 995599, 994499, 993399, 992299, 991199, 990099]\n"
     ]
    }
   ],
   "source": [
    "# Set the digits of our palindromic number\n",
    "n_digits = 6\n",
    "\n",
    "# Set the interval for the first half\n",
    "half = (n_digits + 1) // 2\n",
    "start = 10**half - 1 \n",
    "end = 10**(half - 1) - 1  \n",
    "\n",
    "# Palindromic numbers\n",
    "p_numb = []\n",
    "for first_half in range(start, end, -1):\n",
    "    # Build palindromic number as a concatenation of two halves\n",
    "    first_half_str = str(first_half)\n",
    "    if n_digits % 2 == 0:\n",
    "        p = first_half_str + first_half_str[::-1]\n",
    "    else:\n",
    "        p = first_half_str + first_half_str[-2::-1]\n",
    "    p_numb.append(int(p))\n",
    "\n",
    "print(p_numb[:10])\n"
   ]
  },
  {
   "cell_type": "markdown",
   "id": "f39985d6",
   "metadata": {},
   "source": [
    "Now we can generate palindromic numbers of 6 and 5 digits and check whether any of them can be factorized by two 3-digit numbers:"
   ]
  },
  {
   "cell_type": "code",
   "execution_count": 8,
   "id": "e6f33c10",
   "metadata": {},
   "outputs": [
    {
     "name": "stdout",
     "output_type": "stream",
     "text": [
      "(906609, 993, 913)\n"
     ]
    }
   ],
   "source": [
    "def find_palindrome():\n",
    "    # Number of digits of palindrome numbers to consider\n",
    "    digits_factor, n_factors = 3, 2     # Digits of the factors and number of factors\n",
    "    max_factor, min_factor = int(10**digits_factor - 1), int(10**(digits_factor - 1))   #100 and 999\n",
    "    max_prod, min_prod = (max_factor)**n_factors, min_factor**n_factors     # 100**2 and 999**2\n",
    "    n_digit_start, n_digit_end= len(str(max_prod)), len(str(min_prod)) - 1  # Digits of 100**2 and 999**2\n",
    "    n_digits_val = [n_digits for n_digits in range(n_digit_start, n_digit_end, -1)] # Number of digits to consider\n",
    "\n",
    "    for n_digits in n_digits_val:\n",
    "        # Set the interval for the first half\n",
    "        half = (n_digits + 1) // 2\n",
    "        start = 10**half - 1 \n",
    "        end = 10**(half - 1) - 1  \n",
    "        # Palindromic number\n",
    "        for first_half in range(start, end, -1):\n",
    "            # Build palindromic number as a concatenation of two halves\n",
    "            first_half_str = str(first_half)\n",
    "            if n_digits % 2 == 0:\n",
    "                p = first_half_str + first_half_str[::-1]\n",
    "            else:\n",
    "                p = first_half_str + first_half_str[-2::-1]\n",
    "            p = int(p)\n",
    "            # Check if it can be factorized\n",
    "            for f in range(max_factor, min_factor - 1, -1):\n",
    "                if (p % f == 0) and (min_factor <= p // f <= max_factor):\n",
    "                    return p, f, p // f\n",
    "                \n",
    "    return 'No palindrome found.'\n",
    "\n",
    "result = find_palindrome()\n",
    "print(result)"
   ]
  },
  {
   "cell_type": "markdown",
   "id": "7b48b8b5",
   "metadata": {},
   "source": [
    "The `find_palindrome` function is designed to find the largest palindrome number that is a product of two 3-digit numbers.\n",
    "\n",
    "- The function starts by setting up the range for the factors: both factors are 3-digit numbers, so they range from 100 to 999. It calculates the maximum and minimum possible products of two such numbers, which helps determine how many digits the resulting palindrome could have.\n",
    "\n",
    "- Next, the function iterates over possible palindrome lengths, starting from the largest possible (the number of digits in the maximum product) and working downwards. For each possible length, it generates candidate palindromes by constructing them from a \"first half\" and mirroring it to form the full palindrome. If the number of digits is even, it mirrors the entire first half; if odd, it mirrors all but the last digit to avoid duplicating the center digit.\n",
    "\n",
    "- For each candidate palindrome, the function checks if it can be factored into two 3-digit numbers. It does this by iterating through all possible 3-digit factors in descending order. If it finds such a factorization, it returns the palindrome and its two factors. If no palindrome is found after checking all possibilities, it returns a message indicating so.\n",
    "\n",
    "This approach is efficient because it generates palindromes in descending order, ensuring that the first valid one found is the largest. The function also avoids unnecessary checks by only considering numbers that could possibly be products of two 3-digit numbers."
   ]
  }
 ],
 "metadata": {
  "kernelspec": {
   "display_name": "Python 3",
   "language": "python",
   "name": "python3"
  },
  "language_info": {
   "codemirror_mode": {
    "name": "ipython",
    "version": 3
   },
   "file_extension": ".py",
   "mimetype": "text/x-python",
   "name": "python",
   "nbconvert_exporter": "python",
   "pygments_lexer": "ipython3",
   "version": "3.11.9"
  }
 },
 "nbformat": 4,
 "nbformat_minor": 5
}
